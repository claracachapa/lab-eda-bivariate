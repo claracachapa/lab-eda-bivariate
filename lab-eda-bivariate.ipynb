{
 "cells": [
  {
   "cell_type": "markdown",
   "id": "76267b33-b7bd-480c-8a9c-9678f131b630",
   "metadata": {},
   "source": [
    "# Lab - EDA Bivariate Analysis"
   ]
  },
  {
   "cell_type": "code",
   "execution_count": null,
   "id": "93084089-271f-4280-9f27-7bb4b773f006",
   "metadata": {},
   "outputs": [],
   "source": [
    "import pandas as pd\n",
    "import numpy as np\n",
    "import matplotlib.pyplot as plt\n",
    "import seaborn as sns\n",
    "from scipy.stats import chi2_contingency"
   ]
  },
  {
   "cell_type": "code",
   "execution_count": null,
   "id": "4d6177bd-91e2-44ac-ae39-f5b0bc89711b",
   "metadata": {},
   "outputs": [],
   "source": [
    "df = pd.read_csv('./data/amz_uk_price_prediction_dataset.csv')\n",
    "df"
   ]
  },
  {
   "cell_type": "markdown",
   "id": "dc1df508-922a-4704-aef8-9c8f05a7750a",
   "metadata": {},
   "source": [
    "### 1.1 Crosstab Analysis\n",
    "Create a crosstab between the product category and the isBestSeller status."
   ]
  },
  {
   "cell_type": "code",
   "execution_count": null,
   "id": "4d55e1d9-4275-43a9-bf24-c647c3df724e",
   "metadata": {},
   "outputs": [],
   "source": [
    "contingency_table = pd.crosstab(df['category'], df['isBestSeller'], margins=True, margins_name='Total')\n",
    "# contingency_table"
   ]
  },
  {
   "cell_type": "markdown",
   "id": "a8a675ca-19a9-4de7-82df-e50a3c0d6e51",
   "metadata": {},
   "source": [
    "Are there categories where being a best-seller is more prevalent?"
   ]
  },
  {
   "cell_type": "code",
   "execution_count": null,
   "id": "7697e094-3fd8-4aec-9565-2bc6bb18360a",
   "metadata": {},
   "outputs": [],
   "source": [
    "# calculate best seller proportion, add column, sort it descending\n",
    "contingency_table['Proportion'] = contingency_table[True] / contingency_table[False]\n",
    "sorted_contingency_table = contingency_table.sort_values(by='Proportion', ascending=False)\n",
    "\n",
    "sorted_contingency_table"
   ]
  },
  {
   "cell_type": "markdown",
   "id": "9f741fac-1ada-47e7-81cc-487337844177",
   "metadata": {},
   "source": [
    "### 1.2 Statistical Tests\n",
    "\n",
    "1.2.1 Conduct a Chi-square test to determine if the best-seller distribution is independent of the product category."
   ]
  },
  {
   "cell_type": "code",
   "execution_count": null,
   "id": "abc4c196-0647-45bb-ab81-ad9f28117171",
   "metadata": {},
   "outputs": [],
   "source": [
    "# Chi-square test with previous crosstab table\n",
    "chi2, p_value, dof, expected = chi2_contingency(contingency_table)\n",
    "\n",
    "print(f'\\nChi-square statistic: {chi2}')\n",
    "print(f'\\nP-value: {p_value}')\n",
    "print(f'\\nDegrees of Freedom: {dof}')\n",
    "print('\\nExpected Frequencies:')\n",
    "print(expected)"
   ]
  },
  {
   "cell_type": "markdown",
   "id": "d258fae5-65b1-4b88-b621-2c260c5011e0",
   "metadata": {},
   "source": [
    "1.2.2 Compute Cramér's V to understand the strength of association between best-seller status and category."
   ]
  },
  {
   "cell_type": "code",
   "execution_count": null,
   "id": "b3075f0d-fb90-41b5-95df-719bf3ce4865",
   "metadata": {},
   "outputs": [],
   "source": [
    "# Cramér's V\n",
    "n = contingency_table.sum().sum()  # total number of observations\n",
    "min_dim = min(contingency_table.shape) - 1  # minimum of (number of rows - 1, number of columns - 1)\n",
    "cramers_v = np.sqrt(chi2 / (n * min_dim))\n",
    "\n",
    "print(\"Cramér's V:\", cramers_v)"
   ]
  },
  {
   "cell_type": "markdown",
   "id": "4a944110-43de-44c4-9ff7-3f8c89223e32",
   "metadata": {},
   "source": [
    "### 1.3 Visualizations\n",
    "\n",
    "Visualize the relationship between product categories and the best-seller status using a stacked bar chart."
   ]
  },
  {
   "cell_type": "code",
   "execution_count": null,
   "id": "719026a7-15f8-46e6-a052-17016ac4a445",
   "metadata": {},
   "outputs": [],
   "source": [
    "ax = contingency_table.plot(kind='bar', stacked=True, figsize=(40, 6), color=['coral', 'teal'])\n",
    "\n",
    "ax.set_title('Relationship between Product Category and Best Seller Status')\n",
    "ax.set_xlabel('Category')\n",
    "ax.set_ylabel('Count')\n",
    "ax.legend(title='Best seller status', labels=['No', 'Yes'])\n",
    "\n",
    "plt.show()"
   ]
  },
  {
   "cell_type": "code",
   "execution_count": null,
   "id": "1e0b062e-dbdf-4c6a-b9e6-069c826f1bba",
   "metadata": {},
   "outputs": [],
   "source": [
    "sorted_categories = contingency_table.sum(axis=1).sort_values(ascending=False)\n",
    "\n",
    "# top categories\n",
    "top_20_categories = sorted_categories.tail(20).index\n",
    "\n",
    "top_20_contingency_table = contingency_table.loc[top_20_categories]\n",
    "\n",
    "ax = top_20_contingency_table.plot(kind='bar', stacked=True, figsize=(8, 6), color=['coral', 'teal'])\n",
    "\n",
    "ax.set_title('Top 20 Best Selling vs Non Best Selling Categories')\n",
    "ax.set_xlabel('Category')\n",
    "ax.set_ylabel('Count')\n",
    "ax.legend(title='Best sSeller Status', labels=['No', 'Yes'])\n",
    "\n",
    "plt.tight_layout()\n",
    "plt.show()"
   ]
  },
  {
   "cell_type": "code",
   "execution_count": null,
   "id": "05233f4b-24ab-45ab-9bd5-5a58350e6f03",
   "metadata": {},
   "outputs": [],
   "source": []
  }
 ],
 "metadata": {
  "kernelspec": {
   "display_name": "Python 3 (ipykernel)",
   "language": "python",
   "name": "python3"
  },
  "language_info": {
   "codemirror_mode": {
    "name": "ipython",
    "version": 3
   },
   "file_extension": ".py",
   "mimetype": "text/x-python",
   "name": "python",
   "nbconvert_exporter": "python",
   "pygments_lexer": "ipython3",
   "version": "3.12.7"
  }
 },
 "nbformat": 4,
 "nbformat_minor": 5
}
